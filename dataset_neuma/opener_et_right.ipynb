{
 "cells": [
  {
   "cell_type": "code",
   "execution_count": 511,
   "metadata": {},
   "outputs": [],
   "source": [
    "import pandas as pd\n",
    "import pymatreader as pmr\n",
    "import numpy as np"
   ]
  },
  {
   "cell_type": "code",
   "execution_count": 512,
   "metadata": {},
   "outputs": [],
   "source": [
    "file_name='S01' #Указать номер человека#\n",
    "data=pmr.read_mat(f'исходное/{file_name}.mat') #Указать путь к файлу#\n",
    "df_not_clean=pd.DataFrame(data[file_name])"
   ]
  },
  {
   "cell_type": "code",
   "execution_count": 513,
   "metadata": {},
   "outputs": [],
   "source": [
    "useless_demographic=['Age', 'Gender', 'DominantHand', 'Education', 'MaritalStatus', 'Children']\n",
    "useless_profile=['WeeklySupermarketVisits', 'SupermarketVisitDuration', 'PriceImpact', 'BrandImpact', 'DiscountImpact', 'AdvertisementImpact', 'SuggestionImpact', 'ShoppingList', 'VerbalVisual', 'Spontaneous', 'VarietySeeker', 'UtilitarianMotivation', 'HedonicMotivation', 'Extraversion', 'Neuroticism', 'Agreeableness', 'Openness', 'Conscientiousness', 'BargainHunter']"
   ]
  },
  {
   "cell_type": "code",
   "execution_count": 514,
   "metadata": {},
   "outputs": [],
   "source": [
    "df_not_clean.rename(index={\n",
    "    'education': 'Education',\n",
    "    'marital_status': 'MaritalStatus'\n",
    "}, inplace=True)"
   ]
  },
  {
   "cell_type": "code",
   "execution_count": 515,
   "metadata": {},
   "outputs": [],
   "source": [
    "useless_products=np.arange(1, 25, 1)\n",
    "s=[]\n",
    "for i in useless_products:\n",
    "    s.append('Product'+str(i))\n",
    "useless_products=s"
   ]
  },
  {
   "cell_type": "code",
   "execution_count": 516,
   "metadata": {},
   "outputs": [],
   "source": [
    "et_useful_data=df_not_clean['ET_clean']\n",
    "et_useful_data=et_useful_data.drop(useless_demographic+useless_profile+useless_products)\n",
    "et_useful_data=pd.DataFrame(et_useful_data).transpose()"
   ]
  },
  {
   "cell_type": "code",
   "execution_count": 517,
   "metadata": {},
   "outputs": [],
   "source": [
    "et_data=et_useful_data.Data['ET_clean']\n",
    "et_chans=et_useful_data.chans['ET_clean']"
   ]
  },
  {
   "cell_type": "code",
   "execution_count": 518,
   "metadata": {},
   "outputs": [],
   "source": [
    "df_products=df_not_clean.drop(columns=['Profile', 'Demographics', 'EEG_clean', 'ET_clean'])\n",
    "df_products.drop(useless_demographic+useless_profile+['Data', 'Fs', 'chans'], inplace=True)\n",
    "useless_pages=['Page1', 'Page2', 'Page3', 'Page4', 'Page5', 'Page6']\n",
    "num_of_products=24"
   ]
  },
  {
   "cell_type": "code",
   "execution_count": 519,
   "metadata": {},
   "outputs": [],
   "source": [
    "df_et=pd.DataFrame()"
   ]
  },
  {
   "cell_type": "code",
   "execution_count": null,
   "metadata": {},
   "outputs": [],
   "source": [
    "#Как-будто не работает#\n",
    "for t in useless_pages:\n",
    "    for q in range(24):\n",
    "        prdct=df_products[t][q]\n",
    "        et_vrem_seg=prdct['ET_segments']\n",
    "        for i in et_vrem_seg:\n",
    "            if isinstance(i, np.int32):\n",
    "                et_vrem_seg=np.delete(et_vrem_seg, np.where(et_vrem_seg==i)) #?#"
   ]
  },
  {
   "cell_type": "code",
   "execution_count": null,
   "metadata": {},
   "outputs": [],
   "source": []
  },
  {
   "cell_type": "code",
   "execution_count": null,
   "metadata": {},
   "outputs": [],
   "source": [
    "for t in useless_pages:\n",
    "    for q in range(num_of_products):\n",
    "\n",
    "        dfvrem_et=pd.DataFrame()\n",
    "        prodct=df_products[t][q]\n",
    "        product_info=prodct['ProductInfo']\n",
    "        et_prodct=prodct['ET_segments']\n",
    "\n",
    "        if len(et_prodct)==0:\n",
    "            pass\n",
    "        else:\n",
    "            for i in range(len(et_chans)):\n",
    "                location=et_chans[i]\n",
    "                et_i=et_data[i]\n",
    "                et_i_for_prodct=[]\n",
    "                \n",
    "                if isinstance(et_prodct[0], np.ndarray):\n",
    "                    for j in et_prodct:\n",
    "                        s=[]\n",
    "                        for k in range(j[1]-j[0]+1):\n",
    "                            s.append(et_i[j[0]+k-1])\n",
    "                        et_i_for_prodct.append(s)\n",
    "                else:\n",
    "                    s=[]\n",
    "                    for k in range(et_prodct[1]-et_prodct[0]+1):\n",
    "                        s.append(et_i[et_prodct[0]+k-1])\n",
    "                    et_i_for_prodct.append(s)\n",
    "                dfvrem_et[f'{location}']=[et_i_for_prodct]\n",
    "            dfvrem_et['info']=[product_info]\n",
    "            dfvrem_et['product_page']=t\n",
    "            dfvrem_et['product_number']=q\n",
    "            df_et=pd.concat([df_et, dfvrem_et], ignore_index=True)\n",
    "df_et.reset_index(inplace=True)"
   ]
  },
  {
   "cell_type": "code",
   "execution_count": 522,
   "metadata": {},
   "outputs": [],
   "source": [
    "#df_et.to_csv(f'et_{file_name}.csv')"
   ]
  }
 ],
 "metadata": {
  "kernelspec": {
   "display_name": "Python 3",
   "language": "python",
   "name": "python3"
  },
  "language_info": {
   "codemirror_mode": {
    "name": "ipython",
    "version": 3
   },
   "file_extension": ".py",
   "mimetype": "text/x-python",
   "name": "python",
   "nbconvert_exporter": "python",
   "pygments_lexer": "ipython3",
   "version": "3.11.3"
  }
 },
 "nbformat": 4,
 "nbformat_minor": 2
}
