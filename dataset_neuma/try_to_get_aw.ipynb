{
 "cells": [
  {
   "cell_type": "code",
   "execution_count": 3,
   "metadata": {},
   "outputs": [],
   "source": [
    "import pandas as pd\n",
    "from scipy.fft import fft, ifft, fftfreq\n",
    "import scipy.signal as sng\n",
    "import numpy as np\n",
    "import matplotlib.pyplot as plt\n",
    "import numpy as np"
   ]
  },
  {
   "cell_type": "code",
   "execution_count": 801,
   "metadata": {},
   "outputs": [],
   "source": [
    "eeg=pd.read_csv('извлеченные_ээг/eeg_S01.csv')"
   ]
  },
  {
   "cell_type": "code",
   "execution_count": 802,
   "metadata": {},
   "outputs": [],
   "source": [
    "#electrodes=np.delete(eeg.columns, [0, 1, -1, -2, -3])\n",
    "electrodes=['P3', 'C3', 'F3', 'Fz', 'F4', 'C4', 'P4', 'Cz', 'Pz', 'Fp1', 'Fp2', 'T3', 'T5', 'O1', 'O2', 'F7', 'F8', 'T6', 'T4']\n",
    "fs=300 #частота дискретизации ээг"
   ]
  },
  {
   "cell_type": "code",
   "execution_count": 803,
   "metadata": {},
   "outputs": [],
   "source": [
    "#Почему-то данные в виде строки, так что нужно перегнать обратно в числа#\n",
    "def THE_MOST_STUPID_FUNCTION(eeg_producta):\n",
    "    list_eeg={}\n",
    "    for i in electrodes:\n",
    "        eeg_producta_i=np.delete(np.array(eeg_producta[i].split('[')), [0, 1])\n",
    "        s=[]\n",
    "        for j in range(len(eeg_producta_i)):\n",
    "            vrem=eeg_producta_i[j].split(',')[:-1]\n",
    "            vrem[-1]=vrem[-1][:-1]\n",
    "            for k in range(len(vrem)):\n",
    "                vrem[k]=float(vrem[k])\n",
    "            s.append(vrem)\n",
    "        list_eeg[f'{i}']=s\n",
    "    return list_eeg"
   ]
  },
  {
   "cell_type": "code",
   "execution_count": 804,
   "metadata": {},
   "outputs": [],
   "source": [
    "#Выделим частоты и спектральные плотности мощности (psd)#\n",
    "def get_welt(eeg_producta, fs=300):\n",
    "    product_elecrod_psd={}\n",
    "    #electrodes=['P3', 'C3', 'F3', 'Fz', 'F4', 'C4', 'P4', 'Cz', 'Pz', 'Fp1', 'Fp2', 'T3', 'T5', 'O1', 'O2', 'F7', 'F8', 'T6', 'T4']\n",
    "    electrodes=['F3', 'F4']\n",
    "    for i in electrodes:\n",
    "        eeg_i=eeg_producta[i]\n",
    "        s=[]\n",
    "        for j in eeg_i:\n",
    "            welt=sng.welch(j, fs=fs)\n",
    "            freq=welt[0]\n",
    "            psd=welt[1]\n",
    "            alpha_freq=freq[freq>8]\n",
    "            alpha_freq=alpha_freq[alpha_freq<15]\n",
    "            if len(alpha_freq)!=0:\n",
    "                start=np.where(freq==alpha_freq[0])\n",
    "                stop=np.where(freq==alpha_freq[-1])\n",
    "                alpha_psd=psd[start[0][0]:stop[0][0]+1]\n",
    "                s.append({'freq_alpha_diapazon': alpha_freq, 'psd': alpha_psd})\n",
    "        product_elecrod_psd[f'{i}']=s\n",
    "    return product_elecrod_psd"
   ]
  },
  {
   "cell_type": "code",
   "execution_count": 805,
   "metadata": {},
   "outputs": [],
   "source": [
    "#То же, но для всех продуктов#\n",
    "def get_all_psd(eeg):\n",
    "    s={}\n",
    "    for i in range(len(eeg)):\n",
    "        eeg_producta=eeg.loc[i]\n",
    "        krivie_ruki=THE_MOST_STUPID_FUNCTION(eeg_producta=eeg_producta)\n",
    "        pp=eeg['product_page'].loc[i]\n",
    "        pn=eeg['product_number'].loc[i]\n",
    "        \n",
    "        eeg_psded=get_welt(krivie_ruki)\n",
    "        s[f'{pp} {pn}']=[eeg['index'].loc[i], eeg['info'].loc[i], eeg_psded]\n",
    "    return s"
   ]
  },
  {
   "cell_type": "code",
   "execution_count": null,
   "metadata": {},
   "outputs": [],
   "source": [
    "evrika=get_all_psd(eeg=eeg)"
   ]
  },
  {
   "cell_type": "code",
   "execution_count": 807,
   "metadata": {},
   "outputs": [
    {
     "name": "stderr",
     "output_type": "stream",
     "text": [
      "c:\\Users\\Егор\\AppData\\Local\\Programs\\Python\\Python311\\Lib\\site-packages\\numpy\\core\\fromnumeric.py:3504: RuntimeWarning: Mean of empty slice.\n",
      "  return _methods._mean(a, axis=axis, dtype=dtype,\n",
      "c:\\Users\\Егор\\AppData\\Local\\Programs\\Python\\Python311\\Lib\\site-packages\\numpy\\core\\_methods.py:129: RuntimeWarning: invalid value encountered in scalar divide\n",
      "  ret = ret.dtype.type(ret / rcount)\n"
     ]
    }
   ],
   "source": [
    "#Усредним все psd для каждого продукта как в каждом временном отрезке наблюдения, так и по всем ним#\n",
    "\n",
    "#Я НЕ ВЫКИДЫВАЛ ВРЕМЕННЫЕ ОТРЕЗКИ НАБЛЮДЕНИЯ КОНКРЕТНОГО ПРОДУКТА, КОТОРЫЕ ЯВНО КОРОЧЕ ОСТАЛЬНЫХ#\n",
    "\n",
    "def averager(eeg_pesded):\n",
    "    for i in eeg_pesded:\n",
    "        eeg_page_prod=eeg_pesded[i][2]\n",
    "        electrodes=['F3', 'F4']\n",
    "        for k in electrodes:\n",
    "            vrem=[]\n",
    "            for j in range(len(eeg_page_prod[k])):\n",
    "                evrika[i][2][k][j][f'mean_psd_{k}']=np.mean(eeg_page_prod[k][j]['psd'])\n",
    "                vrem.append(np.mean(eeg_page_prod[k][j]['psd']))\n",
    "            evrika[i][2][f'{k}_average_all_of_saw']=np.mean(vrem)\n",
    "averager(evrika)"
   ]
  },
  {
   "cell_type": "code",
   "execution_count": 808,
   "metadata": {},
   "outputs": [],
   "source": [
    "#Посчитаем фронтальную альфа-ассиметрию (aw) для каждого продукта#\n",
    "def get_AW(eeg_avereged):\n",
    "    s=[]\n",
    "    inf=[]\n",
    "    for i in eeg_avereged:\n",
    "        mean_page_prod=eeg_avereged[i][2]\n",
    "        aw_prod=float((mean_page_prod['F4_average_all_of_saw']-mean_page_prod['F3_average_all_of_saw'])/(mean_page_prod['F4_average_all_of_saw']+mean_page_prod['F3_average_all_of_saw']))\n",
    "        s.append(aw_prod)\n",
    "        inf.append(int(eeg_avereged[i][1][11]))\n",
    "    return [s, inf]"
   ]
  },
  {
   "cell_type": "code",
   "execution_count": 809,
   "metadata": {},
   "outputs": [],
   "source": [
    "hell=get_AW(evrika)"
   ]
  },
  {
   "cell_type": "code",
   "execution_count": 810,
   "metadata": {},
   "outputs": [],
   "source": [
    "df=pd.DataFrame({'product_page_number': list(evrika)})\n",
    "df['aw']=hell[0]\n",
    "df['buy']=hell[1]"
   ]
  },
  {
   "cell_type": "code",
   "execution_count": 811,
   "metadata": {},
   "outputs": [
    {
     "name": "stdout",
     "output_type": "stream",
     "text": [
      "<class 'pandas.core.frame.DataFrame'>\n",
      "Index: 129 entries, 0 to 131\n",
      "Data columns (total 3 columns):\n",
      " #   Column               Non-Null Count  Dtype  \n",
      "---  ------               --------------  -----  \n",
      " 0   product_page_number  129 non-null    object \n",
      " 1   aw                   129 non-null    float64\n",
      " 2   buy                  129 non-null    int64  \n",
      "dtypes: float64(1), int64(1), object(1)\n",
      "memory usage: 4.0+ KB\n"
     ]
    }
   ],
   "source": [
    "df.dropna(inplace=True)\n",
    "df.info()"
   ]
  },
  {
   "cell_type": "code",
   "execution_count": 812,
   "metadata": {},
   "outputs": [],
   "source": [
    "from sklearn.linear_model import LogisticRegression\n",
    "from sklearn.model_selection import train_test_split\n",
    "from sklearn import metrics"
   ]
  },
  {
   "cell_type": "code",
   "execution_count": 813,
   "metadata": {},
   "outputs": [],
   "source": [
    "x=df.drop(columns=['product_page_number', 'buy'])\n",
    "y=df.drop(columns=['product_page_number', 'aw'])"
   ]
  },
  {
   "cell_type": "code",
   "execution_count": 814,
   "metadata": {},
   "outputs": [],
   "source": [
    "x_train, x_test, y_train, y_test = train_test_split(x, y, test_size=0.20, random_state=10)"
   ]
  },
  {
   "cell_type": "code",
   "execution_count": 815,
   "metadata": {},
   "outputs": [
    {
     "name": "stdout",
     "output_type": "stream",
     "text": [
      "0.9230769230769231\n"
     ]
    },
    {
     "name": "stderr",
     "output_type": "stream",
     "text": [
      "c:\\Users\\Егор\\AppData\\Local\\Programs\\Python\\Python311\\Lib\\site-packages\\sklearn\\utils\\validation.py:1300: DataConversionWarning: A column-vector y was passed when a 1d array was expected. Please change the shape of y to (n_samples, ), for example using ravel().\n",
      "  y = column_or_1d(y, warn=True)\n"
     ]
    }
   ],
   "source": [
    "#Посмотрим, может быть и получилось#\n",
    "LR=LogisticRegression()\n",
    "LR.fit(x_train, y_train)\n",
    "y_predict_LR=LR.predict(x_test)\n",
    "print(metrics.accuracy_score(y_test, y_predict_LR))"
   ]
  },
  {
   "cell_type": "code",
   "execution_count": null,
   "metadata": {},
   "outputs": [],
   "source": [
    "#Сделаем для всех испытуемых#\n",
    "people=['01', '02', '03', '05', '06', '07', '08', '09', '10', '12', '13', '14', '15', '16', '17', '18', '19', '20', '21', '22', '23', '24', '25', '26', '27', '28', '29', '30', '31', '32', '33', '34', '35', '36', '37', '38', '39', '40', '41', '42', '43', '44']\n",
    "electrodes=['P3', 'C3', 'F3', 'Fz', 'F4', 'C4', 'P4', 'Cz', 'Pz', 'Fp1', 'Fp2', 'T3', 'T5', 'O1', 'O2', 'F7', 'F8', 'T6', 'T4']\n",
    "fs=300 #частота дискретизации ээг\n",
    "df=pd.DataFrame()\n",
    "\n",
    "for t in people:\n",
    "        eeg=pd.read_csv(f'извлеченные_ээг/eeg_S{t}.csv')\n",
    "        evrika=get_all_psd(eeg=eeg)\n",
    "        averager(evrika)\n",
    "        hell=get_AW(evrika)\n",
    "        df_people=pd.DataFrame({'people': np.full(len(list(evrika)), t), 'product_page_number': list(evrika)})\n",
    "        df_people['aw']=hell[0]\n",
    "        df_people['buy']=hell[1]\n",
    "        df=pd.concat([df, df_people])"
   ]
  },
  {
   "cell_type": "code",
   "execution_count": null,
   "metadata": {},
   "outputs": [],
   "source": [
    "#def aw_God(directory='извлеченные_ээг'):\n",
    "#    people=['01', '02', '03', '05', '06', '07', '08', '09', '10', '12', '13', '14', '15', '16', '17', '18', '19', '20', '21', '22', '23', '24', '25', '26', '27', '28', '29', '30', '31', '32', '33', '34', '35', '36', '37', '38', '39', '40', '41', '42', '43', '44']\n",
    "#    electrodes=['P3', 'C3', 'F3', 'Fz', 'F4', 'C4', 'P4', 'Cz', 'Pz', 'Fp1', 'Fp2', 'T3', 'T5', 'O1', 'O2', 'F7', 'F8', 'T6', 'T4']\n",
    "#    fs=300 #частота дискретизации ээг\n",
    "#    df=pd.DataFrame()\n",
    "#    for t in people:\n",
    "#        eeg=pd.read_csv(f'{directory}/eeg_S{t}.csv')\n",
    "#        evrika=get_all_psd(eeg=eeg)\n",
    "#        averager(evrika)\n",
    "#        hell=get_AW(evrika)\n",
    "#        df_people=pd.DataFrame({'people': np.full(len(list(evrika)), t), 'product_page_number': list(evrika)})\n",
    "#        df_people['aw']=hell[0]\n",
    "#        df_people['buy']=hell[1]\n",
    "#        df=pd.concat(df, df_people)\n",
    "#    return df"
   ]
  },
  {
   "cell_type": "code",
   "execution_count": 820,
   "metadata": {},
   "outputs": [
    {
     "data": {
      "text/html": [
       "<div>\n",
       "<style scoped>\n",
       "    .dataframe tbody tr th:only-of-type {\n",
       "        vertical-align: middle;\n",
       "    }\n",
       "\n",
       "    .dataframe tbody tr th {\n",
       "        vertical-align: top;\n",
       "    }\n",
       "\n",
       "    .dataframe thead th {\n",
       "        text-align: right;\n",
       "    }\n",
       "</style>\n",
       "<table border=\"1\" class=\"dataframe\">\n",
       "  <thead>\n",
       "    <tr style=\"text-align: right;\">\n",
       "      <th></th>\n",
       "      <th>people</th>\n",
       "      <th>product_page_number</th>\n",
       "      <th>aw</th>\n",
       "      <th>buy</th>\n",
       "    </tr>\n",
       "  </thead>\n",
       "  <tbody>\n",
       "    <tr>\n",
       "      <th>0</th>\n",
       "      <td>01</td>\n",
       "      <td>Page1 0</td>\n",
       "      <td>-0.044624</td>\n",
       "      <td>0</td>\n",
       "    </tr>\n",
       "    <tr>\n",
       "      <th>1</th>\n",
       "      <td>01</td>\n",
       "      <td>Page1 1</td>\n",
       "      <td>0.156658</td>\n",
       "      <td>0</td>\n",
       "    </tr>\n",
       "    <tr>\n",
       "      <th>2</th>\n",
       "      <td>01</td>\n",
       "      <td>Page1 2</td>\n",
       "      <td>0.340922</td>\n",
       "      <td>0</td>\n",
       "    </tr>\n",
       "    <tr>\n",
       "      <th>3</th>\n",
       "      <td>01</td>\n",
       "      <td>Page1 3</td>\n",
       "      <td>-0.139705</td>\n",
       "      <td>1</td>\n",
       "    </tr>\n",
       "    <tr>\n",
       "      <th>4</th>\n",
       "      <td>01</td>\n",
       "      <td>Page1 4</td>\n",
       "      <td>0.125743</td>\n",
       "      <td>0</td>\n",
       "    </tr>\n",
       "    <tr>\n",
       "      <th>...</th>\n",
       "      <td>...</td>\n",
       "      <td>...</td>\n",
       "      <td>...</td>\n",
       "      <td>...</td>\n",
       "    </tr>\n",
       "    <tr>\n",
       "      <th>137</th>\n",
       "      <td>44</td>\n",
       "      <td>Page6 19</td>\n",
       "      <td>-0.128140</td>\n",
       "      <td>1</td>\n",
       "    </tr>\n",
       "    <tr>\n",
       "      <th>138</th>\n",
       "      <td>44</td>\n",
       "      <td>Page6 20</td>\n",
       "      <td>-0.023829</td>\n",
       "      <td>0</td>\n",
       "    </tr>\n",
       "    <tr>\n",
       "      <th>139</th>\n",
       "      <td>44</td>\n",
       "      <td>Page6 21</td>\n",
       "      <td>0.088120</td>\n",
       "      <td>0</td>\n",
       "    </tr>\n",
       "    <tr>\n",
       "      <th>140</th>\n",
       "      <td>44</td>\n",
       "      <td>Page6 22</td>\n",
       "      <td>0.334975</td>\n",
       "      <td>0</td>\n",
       "    </tr>\n",
       "    <tr>\n",
       "      <th>141</th>\n",
       "      <td>44</td>\n",
       "      <td>Page6 23</td>\n",
       "      <td>0.077138</td>\n",
       "      <td>0</td>\n",
       "    </tr>\n",
       "  </tbody>\n",
       "</table>\n",
       "<p>5902 rows × 4 columns</p>\n",
       "</div>"
      ],
      "text/plain": [
       "    people product_page_number        aw  buy\n",
       "0       01             Page1 0 -0.044624    0\n",
       "1       01             Page1 1  0.156658    0\n",
       "2       01             Page1 2  0.340922    0\n",
       "3       01             Page1 3 -0.139705    1\n",
       "4       01             Page1 4  0.125743    0\n",
       "..     ...                 ...       ...  ...\n",
       "137     44            Page6 19 -0.128140    1\n",
       "138     44            Page6 20 -0.023829    0\n",
       "139     44            Page6 21  0.088120    0\n",
       "140     44            Page6 22  0.334975    0\n",
       "141     44            Page6 23  0.077138    0\n",
       "\n",
       "[5902 rows x 4 columns]"
      ]
     },
     "execution_count": 820,
     "metadata": {},
     "output_type": "execute_result"
    }
   ],
   "source": [
    "df"
   ]
  },
  {
   "cell_type": "code",
   "execution_count": 821,
   "metadata": {},
   "outputs": [],
   "source": [
    "#df.to_csv('eeg_aw.csv')"
   ]
  },
  {
   "cell_type": "code",
   "execution_count": 8,
   "metadata": {},
   "outputs": [],
   "source": [
    "df=pd.read_csv('eeg_aw.csv')\n",
    "df.dropna(inplace=True)"
   ]
  },
  {
   "cell_type": "code",
   "execution_count": 9,
   "metadata": {},
   "outputs": [],
   "source": [
    "#Посмотрим, может быть и получилось#\n",
    "from sklearn.linear_model import LogisticRegression\n",
    "from sklearn.model_selection import train_test_split\n",
    "from sklearn import metrics\n",
    "x=df.drop(columns=['product_page_number', 'buy', 'Unnamed: 0', 'people'])\n",
    "y=df.drop(columns=['product_page_number', 'aw', 'Unnamed: 0', 'people'])"
   ]
  },
  {
   "cell_type": "code",
   "execution_count": 18,
   "metadata": {},
   "outputs": [],
   "source": [
    "x_train, x_test, y_train, y_test = train_test_split(x, y, test_size=0.10, random_state=10)"
   ]
  },
  {
   "cell_type": "code",
   "execution_count": 19,
   "metadata": {},
   "outputs": [
    {
     "name": "stdout",
     "output_type": "stream",
     "text": [
      "0.8671328671328671\n"
     ]
    },
    {
     "name": "stderr",
     "output_type": "stream",
     "text": [
      "c:\\Users\\Егор\\AppData\\Local\\Programs\\Python\\Python311\\Lib\\site-packages\\sklearn\\utils\\validation.py:1300: DataConversionWarning: A column-vector y was passed when a 1d array was expected. Please change the shape of y to (n_samples, ), for example using ravel().\n",
      "  y = column_or_1d(y, warn=True)\n"
     ]
    }
   ],
   "source": [
    "LR=LogisticRegression()\n",
    "LR.fit(x_train, y_train)\n",
    "y_predict_LR=LR.predict(x_test)\n",
    "print(metrics.accuracy_score(y_test, y_predict_LR))"
   ]
  }
 ],
 "metadata": {
  "kernelspec": {
   "display_name": "Python 3",
   "language": "python",
   "name": "python3"
  },
  "language_info": {
   "codemirror_mode": {
    "name": "ipython",
    "version": 3
   },
   "file_extension": ".py",
   "mimetype": "text/x-python",
   "name": "python",
   "nbconvert_exporter": "python",
   "pygments_lexer": "ipython3",
   "version": "3.11.3"
  }
 },
 "nbformat": 4,
 "nbformat_minor": 2
}
