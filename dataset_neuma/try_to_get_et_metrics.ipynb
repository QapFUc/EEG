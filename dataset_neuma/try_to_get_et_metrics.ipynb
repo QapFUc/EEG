{
 "cells": [
  {
   "cell_type": "code",
   "execution_count": 51,
   "metadata": {},
   "outputs": [],
   "source": [
    "import pandas as pd\n",
    "import numpy as np\n",
    "import scipy.signal as sng"
   ]
  },
  {
   "cell_type": "code",
   "execution_count": 52,
   "metadata": {},
   "outputs": [],
   "source": [
    "et=pd.read_csv('извлеченные_айтрекинг/et_S01.csv')"
   ]
  },
  {
   "cell_type": "code",
   "execution_count": 53,
   "metadata": {},
   "outputs": [],
   "source": [
    "def THE_MOST_STUPID_FUNCTION(eeg_producta):\n",
    "    list_eeg={}\n",
    "    electrodes=['left_pupil', 'right_pupil']\n",
    "    for i in electrodes:\n",
    "        eeg_producta_i=np.delete(np.array(eeg_producta[i].split('[')), [0, 1])\n",
    "        s=[]\n",
    "        for j in range(len(eeg_producta_i)):\n",
    "            vrem=eeg_producta_i[j].split(',')[:-1]\n",
    "            vrem[-1]=vrem[-1][:-1]\n",
    "            for k in range(len(vrem)):\n",
    "                vrem[k]=float(vrem[k])\n",
    "            s.append(vrem)\n",
    "        list_eeg[f'{i}']=s\n",
    "    return list_eeg"
   ]
  },
  {
   "cell_type": "code",
   "execution_count": 54,
   "metadata": {},
   "outputs": [],
   "source": [
    "#ИЛИ НАДО СНОВА FFT ИЛИ PSD????#\n",
    "\n",
    "def get_pupils(et):\n",
    "    s={}\n",
    "    for i in range(len(et)):\n",
    "        et_producta=et.loc[i]\n",
    "        krivie_ruki=THE_MOST_STUPID_FUNCTION(et_producta)\n",
    "        pp=et['product_page'].loc[i]\n",
    "        pn=et['product_number'].loc[i]\n",
    "\n",
    "        s[f'{pp} {pn}']=[et['index'].loc[i], et['info'].loc[i], krivie_ruki]\n",
    "    return s"
   ]
  },
  {
   "cell_type": "code",
   "execution_count": 55,
   "metadata": {},
   "outputs": [],
   "source": [
    "check=get_pupils(et=et)"
   ]
  },
  {
   "cell_type": "code",
   "execution_count": 56,
   "metadata": {},
   "outputs": [],
   "source": [
    "def average_pupil(et_got):\n",
    "    pupils=['left_pupil', 'right_pupil']\n",
    "    for i in et_got:\n",
    "        et_page_prod=et_got[i][2]\n",
    "        for k in pupils:\n",
    "            vrem=[]\n",
    "            for j in range(len(et_page_prod[k])):\n",
    "                vrem.append(np.mean(et_page_prod[k][j]))\n",
    "            avg_pupil=np.mean(vrem)\n",
    "            check[i][2][f\"averaged_{k}\"]=round(avg_pupil, ndigits=5)"
   ]
  },
  {
   "cell_type": "code",
   "execution_count": 57,
   "metadata": {},
   "outputs": [],
   "source": [
    "average_pupil(check)"
   ]
  },
  {
   "cell_type": "code",
   "execution_count": 58,
   "metadata": {},
   "outputs": [],
   "source": [
    "def get_result(avg_pup):\n",
    "    l=[]\n",
    "    r=[]\n",
    "    for i in avg_pup:\n",
    "        l.append(avg_pup[i][2]['averaged_left_pupil'])\n",
    "        r.append(avg_pup[i][2]['averaged_right_pupil'])\n",
    "    return [l, r]"
   ]
  },
  {
   "cell_type": "code",
   "execution_count": 59,
   "metadata": {},
   "outputs": [],
   "source": [
    "final=get_result(check)"
   ]
  },
  {
   "cell_type": "code",
   "execution_count": 60,
   "metadata": {},
   "outputs": [],
   "source": [
    "df=pd.DataFrame({'product_page_number': list(check)})\n",
    "df['left_pupil_avg']=final[0]\n",
    "df['right_pupil_avg']=final[1]"
   ]
  },
  {
   "cell_type": "code",
   "execution_count": 61,
   "metadata": {},
   "outputs": [
    {
     "data": {
      "text/html": [
       "<div>\n",
       "<style scoped>\n",
       "    .dataframe tbody tr th:only-of-type {\n",
       "        vertical-align: middle;\n",
       "    }\n",
       "\n",
       "    .dataframe tbody tr th {\n",
       "        vertical-align: top;\n",
       "    }\n",
       "\n",
       "    .dataframe thead th {\n",
       "        text-align: right;\n",
       "    }\n",
       "</style>\n",
       "<table border=\"1\" class=\"dataframe\">\n",
       "  <thead>\n",
       "    <tr style=\"text-align: right;\">\n",
       "      <th></th>\n",
       "      <th>product_page_number</th>\n",
       "      <th>left_pupil_avg</th>\n",
       "      <th>right_pupil_avg</th>\n",
       "    </tr>\n",
       "  </thead>\n",
       "  <tbody>\n",
       "    <tr>\n",
       "      <th>0</th>\n",
       "      <td>Page1 0</td>\n",
       "      <td>3.30437</td>\n",
       "      <td>3.23903</td>\n",
       "    </tr>\n",
       "    <tr>\n",
       "      <th>1</th>\n",
       "      <td>Page1 1</td>\n",
       "      <td>3.27006</td>\n",
       "      <td>3.20299</td>\n",
       "    </tr>\n",
       "    <tr>\n",
       "      <th>2</th>\n",
       "      <td>Page1 2</td>\n",
       "      <td>3.28092</td>\n",
       "      <td>3.22018</td>\n",
       "    </tr>\n",
       "    <tr>\n",
       "      <th>3</th>\n",
       "      <td>Page1 3</td>\n",
       "      <td>3.44064</td>\n",
       "      <td>3.34842</td>\n",
       "    </tr>\n",
       "    <tr>\n",
       "      <th>4</th>\n",
       "      <td>Page1 4</td>\n",
       "      <td>3.36216</td>\n",
       "      <td>3.29881</td>\n",
       "    </tr>\n",
       "    <tr>\n",
       "      <th>...</th>\n",
       "      <td>...</td>\n",
       "      <td>...</td>\n",
       "      <td>...</td>\n",
       "    </tr>\n",
       "    <tr>\n",
       "      <th>127</th>\n",
       "      <td>Page6 19</td>\n",
       "      <td>3.60834</td>\n",
       "      <td>3.49774</td>\n",
       "    </tr>\n",
       "    <tr>\n",
       "      <th>128</th>\n",
       "      <td>Page6 20</td>\n",
       "      <td>3.71160</td>\n",
       "      <td>3.60043</td>\n",
       "    </tr>\n",
       "    <tr>\n",
       "      <th>129</th>\n",
       "      <td>Page6 21</td>\n",
       "      <td>3.44980</td>\n",
       "      <td>3.34990</td>\n",
       "    </tr>\n",
       "    <tr>\n",
       "      <th>130</th>\n",
       "      <td>Page6 22</td>\n",
       "      <td>3.67248</td>\n",
       "      <td>3.51599</td>\n",
       "    </tr>\n",
       "    <tr>\n",
       "      <th>131</th>\n",
       "      <td>Page6 23</td>\n",
       "      <td>3.76040</td>\n",
       "      <td>3.56687</td>\n",
       "    </tr>\n",
       "  </tbody>\n",
       "</table>\n",
       "<p>132 rows × 3 columns</p>\n",
       "</div>"
      ],
      "text/plain": [
       "    product_page_number  left_pupil_avg  right_pupil_avg\n",
       "0               Page1 0         3.30437          3.23903\n",
       "1               Page1 1         3.27006          3.20299\n",
       "2               Page1 2         3.28092          3.22018\n",
       "3               Page1 3         3.44064          3.34842\n",
       "4               Page1 4         3.36216          3.29881\n",
       "..                  ...             ...              ...\n",
       "127            Page6 19         3.60834          3.49774\n",
       "128            Page6 20         3.71160          3.60043\n",
       "129            Page6 21         3.44980          3.34990\n",
       "130            Page6 22         3.67248          3.51599\n",
       "131            Page6 23         3.76040          3.56687\n",
       "\n",
       "[132 rows x 3 columns]"
      ]
     },
     "execution_count": 61,
     "metadata": {},
     "output_type": "execute_result"
    }
   ],
   "source": [
    "df"
   ]
  },
  {
   "cell_type": "code",
   "execution_count": 62,
   "metadata": {},
   "outputs": [],
   "source": [
    "people=['01', '02', '03', '05', '06', '07', '08', '09', '10', '12', '13', '14', '15', '16', '17', '18', '19', '20', '21', '22', '23', '24', '25', '26', '27', '28', '29', '30', '31', '32', '33', '34', '35', '36', '37', '38', '39', '40', '41', '42', '43', '44']\n",
    "df=pd.DataFrame()\n",
    "\n",
    "for t in people:\n",
    "    et=pd.read_csv(f'извлеченные_айтрекинг/et_S{t}.csv')\n",
    "    check=get_pupils(et=et)\n",
    "    average_pupil(check)\n",
    "    final=get_result(check)\n",
    "\n",
    "    df_people=pd.DataFrame({'people': np.full(len(list(check)), t), 'product_page_number': list(check)})\n",
    "    df_people['left_pupil_avg']=final[0]\n",
    "    df_people['right_pupil_avg']=final[1]\n",
    "\n",
    "    df=pd.concat([df, df_people])"
   ]
  },
  {
   "cell_type": "code",
   "execution_count": 63,
   "metadata": {},
   "outputs": [],
   "source": [
    "#df.to_csv('et_try_metrics.csv')"
   ]
  },
  {
   "cell_type": "code",
   "execution_count": 65,
   "metadata": {},
   "outputs": [
    {
     "name": "stdout",
     "output_type": "stream",
     "text": [
      "<class 'pandas.core.frame.DataFrame'>\n",
      "Index: 5902 entries, 0 to 141\n",
      "Data columns (total 4 columns):\n",
      " #   Column               Non-Null Count  Dtype  \n",
      "---  ------               --------------  -----  \n",
      " 0   people               5902 non-null   object \n",
      " 1   product_page_number  5902 non-null   object \n",
      " 2   left_pupil_avg       5902 non-null   float64\n",
      " 3   right_pupil_avg      5902 non-null   float64\n",
      "dtypes: float64(2), object(2)\n",
      "memory usage: 230.5+ KB\n"
     ]
    }
   ],
   "source": [
    "df.info()"
   ]
  },
  {
   "cell_type": "code",
   "execution_count": null,
   "metadata": {},
   "outputs": [],
   "source": []
  }
 ],
 "metadata": {
  "kernelspec": {
   "display_name": "Python 3",
   "language": "python",
   "name": "python3"
  },
  "language_info": {
   "codemirror_mode": {
    "name": "ipython",
    "version": 3
   },
   "file_extension": ".py",
   "mimetype": "text/x-python",
   "name": "python",
   "nbconvert_exporter": "python",
   "pygments_lexer": "ipython3",
   "version": "3.11.3"
  }
 },
 "nbformat": 4,
 "nbformat_minor": 2
}
